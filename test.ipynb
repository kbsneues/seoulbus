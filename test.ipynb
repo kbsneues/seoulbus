{
 "cells": [
  {
   "metadata": {},
   "cell_type": "code",
   "outputs": [],
   "execution_count": null,
   "source": [
    "from keras.models import load_model\n",
    "from keras.preprocessing import image\n",
    "import numpy as np\n",
    "\n",
    "# 저장된 모델 불러오기\n",
    "model = load_model('bus_classification_model.h5')\n",
    "\n",
    "# 테스트할 이미지\n",
    "test_image_path = 'yellow.png'\n",
    "\n",
    "# 이미지 불러오기 및 전처리\n",
    "img = image.load_img(test_image_path, target_size=(150, 150))\n",
    "x = image.img_to_array(img)\n",
    "x = np.expand_dims(x, axis=0)\n",
    "x /= 255.\n",
    "\n",
    "# 이미지 예측\n",
    "prediction = model.predict(x)\n",
    "\n",
    "# 예측 결과 출력\n",
    "classes = ['blue_bus', 'green_bus', 'red_bus', 'yellow_bus']\n",
    "predicted_class = classes[np.argmax(prediction)]\n",
    "if predicted_class == 'blue_bus':\n",
    "    print(f'서울시내 먼거리를 운행하는 간선버스입니다.')\n",
    "elif predicted_class == 'green_bus':\n",
    "    print(f'지하철로 연계 및 지역내 통행을 위한 지선버스입니다.')\n",
    "elif predicted_class == 'red_bus':\n",
    "    print(f'서울과 수도군 도시를 급행으로 연결하는 광역버스입니다.')\n",
    "elif predicted_class == 'yellow_bus':\n",
    "    print(f'다양한 통행수요 대응형 순환버스입니다.')\n",
    "else:\n",
    "    print(f'이 버스는 다른 버스입니다.')"
   ],
   "id": "b05365c744f1a92"
  }
 ],
 "metadata": {
  "kernelspec": {
   "display_name": "Python 3",
   "language": "python",
   "name": "python3"
  },
  "language_info": {
   "codemirror_mode": {
    "name": "ipython",
    "version": 2
   },
   "file_extension": ".py",
   "mimetype": "text/x-python",
   "name": "python",
   "nbconvert_exporter": "python",
   "pygments_lexer": "ipython2",
   "version": "2.7.6"
  }
 },
 "nbformat": 4,
 "nbformat_minor": 5
}
